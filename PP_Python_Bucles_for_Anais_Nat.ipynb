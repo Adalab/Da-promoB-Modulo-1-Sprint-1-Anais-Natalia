{
 "cells": [
  {
   "cell_type": "code",
   "execution_count": 46,
   "metadata": {},
   "outputs": [
    {
     "name": "stdout",
     "output_type": "stream",
     "text": [
      "¿Que cantidad quieres invertir?\n",
      "5000\n",
      "¿Que interes anual quieres?\n",
      "['5%', '10%', '15%']\n",
      "5%\n",
      "¿Durante cuántos años?\n",
      "[2, 3, 4]\n",
      "3\n"
     ]
    }
   ],
   "source": [
    "p_inversion= \"¿Que cantidad quieres invertir?\"\n",
    "r_inversion= input()\n",
    "p_interes= \"¿Que interes anual quieres?\"\n",
    "intereses= ['5%','10%','15%']\n",
    "r_interes= input()\n",
    "p_años= \"¿Durante cuántos años?\"\n",
    "años= [2,3,4]\n",
    "r_años= input()\n",
    "\n",
    "print(p_inversion)\n",
    "print(r_inversion)\n",
    "print(p_interes)\n",
    "print(intereses)\n",
    "print(r_interes)\n",
    "print(p_años)\n",
    "print(años)\n",
    "print(r_años)"
   ]
  },
  {
   "cell_type": "code",
   "execution_count": 5,
   "metadata": {},
   "outputs": [
    {
     "ename": "NameError",
     "evalue": "name 'año2' is not defined",
     "output_type": "error",
     "traceback": [
      "\u001b[0;31m---------------------------------------------------------------------------\u001b[0m",
      "\u001b[0;31mNameError\u001b[0m                                 Traceback (most recent call last)",
      "\u001b[1;32m/home/adalaber/Escritorio/Pair_Programming/Da-promoB-Modulo-1-Sprint-1-Anais-Natalia/PP_Python_Bucles_for_Anais_Nat.ipynb Celda 2\u001b[0m in \u001b[0;36m<cell line: 2>\u001b[0;34m()\u001b[0m\n\u001b[1;32m      <a href='vscode-notebook-cell:/home/adalaber/Escritorio/Pair_Programming/Da-promoB-Modulo-1-Sprint-1-Anais-Natalia/PP_Python_Bucles_for_Anais_Nat.ipynb#ch0000001?line=0'>1</a>\u001b[0m año1\u001b[39m=\u001b[39m [\u001b[39m5000\u001b[39m\u001b[39m*\u001b[39m\u001b[39m0.05\u001b[39m]\n\u001b[0;32m----> <a href='vscode-notebook-cell:/home/adalaber/Escritorio/Pair_Programming/Da-promoB-Modulo-1-Sprint-1-Anais-Natalia/PP_Python_Bucles_for_Anais_Nat.ipynb#ch0000001?line=1'>2</a>\u001b[0m duracion_total_inversion\u001b[39m=\u001b[39m[año1,año2,año3]\n\u001b[1;32m      <a href='vscode-notebook-cell:/home/adalaber/Escritorio/Pair_Programming/Da-promoB-Modulo-1-Sprint-1-Anais-Natalia/PP_Python_Bucles_for_Anais_Nat.ipynb#ch0000001?line=2'>3</a>\u001b[0m \u001b[39mprint\u001b[39m(ganancia_año1)\n",
      "\u001b[0;31mNameError\u001b[0m: name 'año2' is not defined"
     ]
    }
   ],
   "source": [
    "año1= [5000*0.05]\n",
    "duracion_total_inversion=[año1,año2,año3]\n",
    "print(ganancia_año1)"
   ]
  }
 ],
 "metadata": {
  "kernelspec": {
   "display_name": "Python 3.8.10 64-bit",
   "language": "python",
   "name": "python3"
  },
  "language_info": {
   "codemirror_mode": {
    "name": "ipython",
    "version": 3
   },
   "file_extension": ".py",
   "mimetype": "text/x-python",
   "name": "python",
   "nbconvert_exporter": "python",
   "pygments_lexer": "ipython3",
   "version": "3.8.10"
  },
  "orig_nbformat": 4,
  "vscode": {
   "interpreter": {
    "hash": "31f2aee4e71d21fbe5cf8b01ff0e069b9275f58929596ceb00d14d90e3e16cd6"
   }
  }
 },
 "nbformat": 4,
 "nbformat_minor": 2
}
