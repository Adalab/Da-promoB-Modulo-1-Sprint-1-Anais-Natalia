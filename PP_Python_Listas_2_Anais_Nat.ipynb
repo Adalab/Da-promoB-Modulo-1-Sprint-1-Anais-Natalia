{
 "cells": [
  {
   "cell_type": "code",
   "execution_count": null,
   "metadata": {},
   "outputs": [],
   "source": [
    "import random\n",
    "\n",
    "# Variables numéricas\n",
    "index = -1\n",
    "\n",
    "# Cadenas fijas de texto\n",
    "\n",
    "# User input\n",
    "\n",
    "# Cantidades calculadas\n",
    "num_list = random.sample(range(lim_inferior, lim_superior), longitud_lista)\n",
    "\n",
    "# Inicio del juego\n",
    "\n",
    "# Propiedades de la lista aleatoria\n",
    "\n",
    "# Han adivinado un elemento?\n",
    "\n",
    "# Si adivinaron uno, dónde estaba?\n",
    "if num_list.count(intento): index = indice\n",
    "if index >= 0: print(\"Estaba en el sitio\", indice_humano + \", índice\", str(index)+\".\")\n",
    "\n",
    "# Fin del juego"
   ]
  },
  {
   "cell_type": "code",
   "execution_count": null,
   "metadata": {},
   "outputs": [],
   "source": [
    "import random"
   ]
  },
  {
   "cell_type": "code",
   "execution_count": null,
   "metadata": {},
   "outputs": [],
   "source": [
    "index = -1"
   ]
  },
  {
   "cell_type": "code",
   "execution_count": null,
   "metadata": {},
   "outputs": [],
   "source": [
    "lim_inferior = 5\n",
    "lim_superior = 37\n"
   ]
  },
  {
   "cell_type": "code",
   "execution_count": null,
   "metadata": {},
   "outputs": [],
   "source": [
    "longitud_lista = [5, 13, 18, 12, 4, 37]"
   ]
  },
  {
   "cell_type": "code",
   "execution_count": null,
   "metadata": {},
   "outputs": [],
   "source": [
    "Bienvenida= \"Comenzamos el juego\"\n",
    "print (Bienvenida)"
   ]
  },
  {
   "cell_type": "code",
   "execution_count": null,
   "metadata": {},
   "outputs": [],
   "source": [
    "intento2 = input()\n",
    "print(intento2)"
   ]
  },
  {
   "cell_type": "code",
   "execution_count": null,
   "metadata": {},
   "outputs": [],
   "source": [
    "num_list = random.sample(range(lim_inferior, lim_superior), longitud_lista)"
   ]
  }
 ],
 "metadata": {
  "kernelspec": {
   "display_name": "Python 3.8.10 64-bit",
   "language": "python",
   "name": "python3"
  },
  "language_info": {
   "name": "python",
   "version": "3.8.10"
  },
  "orig_nbformat": 4,
  "vscode": {
   "interpreter": {
    "hash": "31f2aee4e71d21fbe5cf8b01ff0e069b9275f58929596ceb00d14d90e3e16cd6"
   }
  }
 },
 "nbformat": 4,
 "nbformat_minor": 2
}
