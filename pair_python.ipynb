{
 "cells": [
  {
   "cell_type": "code",
   "execution_count": 1,
   "metadata": {},
   "outputs": [
    {
     "name": "stdout",
     "output_type": "stream",
     "text": [
      "Buenos días concursante\n"
     ]
    }
   ],
   "source": [
    "bienvenida= \"Buenos días concursante\"\n",
    "print(bienvenida)"
   ]
  },
  {
   "cell_type": "code",
   "execution_count": 2,
   "metadata": {},
   "outputs": [
    {
     "name": "stdout",
     "output_type": "stream",
     "text": [
      "Tienes 2 intentos para adivinar el número entre 3 y 6.\n"
     ]
    }
   ],
   "source": [
    "pregunta= \"Tienes 2 intentos para adivinar el número entre 3 y 6.\"\n",
    "print(pregunta)"
   ]
  },
  {
   "cell_type": "code",
   "execution_count": 3,
   "metadata": {},
   "outputs": [
    {
     "name": "stdout",
     "output_type": "stream",
     "text": [
      "4\n"
     ]
    }
   ],
   "source": [
    "contesta= input()\n",
    "print(contesta)"
   ]
  },
  {
   "cell_type": "code",
   "execution_count": 4,
   "metadata": {},
   "outputs": [
    {
     "name": "stdout",
     "output_type": "stream",
     "text": [
      "intento 1: 4\n"
     ]
    }
   ],
   "source": [
    "intento= \"intento 1: \" + contesta\n",
    "print (intento)"
   ]
  },
  {
   "cell_type": "code",
   "execution_count": 5,
   "metadata": {},
   "outputs": [
    {
     "name": "stdout",
     "output_type": "stream",
     "text": [
      "Terminamos el juego. El número era 4, ¿lo adivinaste? \n"
     ]
    }
   ],
   "source": [
    "Fin= \"Terminamos el juego. El número era \" + contesta + \", ¿lo adivinaste? \"\n",
    "print (Fin)"
   ]
  },
  {
   "cell_type": "code",
   "execution_count": null,
   "metadata": {},
   "outputs": [],
   "source": [
    "import random\n",
    "\n",
    "# Variables numéricas\n",
    "\n",
    "# Cadenas fijas de texto\n",
    "str_input = \"Lista de números, separado por espacios: \"\n",
    "\n",
    "# User input\n",
    "num_list = list(int(num) for num in input(str_input).strip().split())\n",
    "\n",
    "# Cantidades calculadas\n",
    "numero_secreto = random.randint(lim_inferior,lim_superior)\n",
    "\n",
    "# Inicio del juego\n",
    "\n",
    "# Propiedades de la lista\n",
    "\n",
    "# Han adivinado el número secreto?\n",
    "\n",
    "# Fin del juego"
   ]
  },
  {
   "cell_type": "code",
   "execution_count": 6,
   "metadata": {},
   "outputs": [],
   "source": [
    "import random"
   ]
  },
  {
   "cell_type": "code",
   "execution_count": 10,
   "metadata": {},
   "outputs": [],
   "source": [
    "lim_inferior = 5\n",
    "lim_superior = 37\n"
   ]
  },
  {
   "cell_type": "code",
   "execution_count": 11,
   "metadata": {},
   "outputs": [
    {
     "name": "stdout",
     "output_type": "stream",
     "text": [
      "Comenzamos el juego\n"
     ]
    }
   ],
   "source": [
    "Bienvenida= \"Comenzamos el juego\"\n",
    "print (Bienvenida)"
   ]
  },
  {
   "cell_type": "code",
   "execution_count": 12,
   "metadata": {},
   "outputs": [
    {
     "name": "stdout",
     "output_type": "stream",
     "text": [
      "La lista facilitada por el usuario es: [5, 13, 18, 12, 4, 37]\n"
     ]
    }
   ],
   "source": [
    "lista= \"La lista facilitada por el usuario es: [5, 13, 18, 12, 4, 37]\"\n",
    "print (lista)"
   ]
  },
  {
   "cell_type": "code",
   "execution_count": 13,
   "metadata": {},
   "outputs": [
    {
     "name": "stdout",
     "output_type": "stream",
     "text": [
      "Tiene 6 elementos entre 4 a 37.\n"
     ]
    }
   ],
   "source": [
    "elementos= \"Tiene 6 elementos entre 4 a 37.\"\n",
    "print (elementos)"
   ]
  },
  {
   "cell_type": "code",
   "execution_count": 27,
   "metadata": {},
   "outputs": [],
   "source": [
    "str_input = \"Lista de números, separado por espacios: \"\n",
    "num_list = list(int(num) for num in input(str_input).strip().split())\n"
   ]
  },
  {
   "cell_type": "code",
   "execution_count": 28,
   "metadata": {},
   "outputs": [],
   "source": [
    "numero_secreto = random.randint(lim_inferior,lim_superior)\n"
   ]
  },
  {
   "cell_type": "code",
   "execution_count": 29,
   "metadata": {},
   "outputs": [
    {
     "data": {
      "text/plain": [
       "6"
      ]
     },
     "execution_count": 29,
     "metadata": {},
     "output_type": "execute_result"
    }
   ],
   "source": [
    "len (num_list)"
   ]
  },
  {
   "cell_type": "code",
   "execution_count": 30,
   "metadata": {},
   "outputs": [
    {
     "name": "stdout",
     "output_type": "stream",
     "text": [
      "[5, 13, 18, 12, 4, 37]\n"
     ]
    }
   ],
   "source": [
    "print(num_list)"
   ]
  },
  {
   "cell_type": "code",
   "execution_count": 31,
   "metadata": {},
   "outputs": [
    {
     "name": "stdout",
     "output_type": "stream",
     "text": [
      "36\n"
     ]
    }
   ],
   "source": [
    "print(numero_secreto)"
   ]
  },
  {
   "cell_type": "code",
   "execution_count": 33,
   "metadata": {},
   "outputs": [
    {
     "name": "stdout",
     "output_type": "stream",
     "text": [
      "False\n"
     ]
    }
   ],
   "source": [
    "resultado = numero_secreto in num_list\n",
    "print(resultado)"
   ]
  },
  {
   "cell_type": "code",
   "execution_count": 34,
   "metadata": {},
   "outputs": [
    {
     "name": "stdout",
     "output_type": "stream",
     "text": [
      "-- Terminamos el juego. El número era 36. --\n"
     ]
    }
   ],
   "source": [
    "despedida= \"-- Terminamos el juego. El número era 36. --\"\n",
    "print (despedida)\n"
   ]
  },
  {
   "cell_type": "code",
   "execution_count": null,
   "metadata": {},
   "outputs": [],
   "source": [
    "import random\n",
    "\n",
    "# Variables numéricas\n",
    "index = -1\n",
    "\n",
    "# Cadenas fijas de texto\n",
    "\n",
    "# User input\n",
    "\n",
    "# Cantidades calculadas\n",
    "num_list = random.sample(range(lim_inferior, lim_superior), longitud_lista)\n",
    "\n",
    "# Inicio del juego\n",
    "\n",
    "# Propiedades de la lista aleatoria\n",
    "\n",
    "# Han adivinado un elemento?\n",
    "\n",
    "# Si adivinaron uno, dónde estaba?\n",
    "if num_list.count(intento): index = indice\n",
    "if index >= 0: print(\"Estaba en el sitio\", indice_humano + \", índice\", str(index)+\".\")\n",
    "\n",
    "# Fin del juego"
   ]
  },
  {
   "cell_type": "code",
   "execution_count": 35,
   "metadata": {},
   "outputs": [],
   "source": [
    "import random"
   ]
  },
  {
   "cell_type": "code",
   "execution_count": 36,
   "metadata": {},
   "outputs": [],
   "source": [
    "index = -1"
   ]
  },
  {
   "cell_type": "code",
   "execution_count": 37,
   "metadata": {},
   "outputs": [],
   "source": [
    "lim_inferior = 5\n",
    "lim_superior = 37\n"
   ]
  },
  {
   "cell_type": "code",
   "execution_count": 42,
   "metadata": {},
   "outputs": [],
   "source": [
    "numeros = [5, 13, 18, 12, 4, 37]"
   ]
  },
  {
   "cell_type": "code",
   "execution_count": 43,
   "metadata": {},
   "outputs": [
    {
     "name": "stdout",
     "output_type": "stream",
     "text": [
      "Comenzamos el juego\n"
     ]
    }
   ],
   "source": [
    "Bienvenida= \"Comenzamos el juego\"\n",
    "print (Bienvenida)"
   ]
  },
  {
   "cell_type": "code",
   "execution_count": null,
   "metadata": {},
   "outputs": [],
   "source": [
    "intento2 = input()\n",
    "print(intento2)"
   ]
  },
  {
   "cell_type": "code",
   "execution_count": null,
   "metadata": {},
   "outputs": [],
   "source": []
  }
 ],
 "metadata": {
  "kernelspec": {
   "display_name": "Python 3.8.10 64-bit",
   "language": "python",
   "name": "python3"
  },
  "language_info": {
   "codemirror_mode": {
    "name": "ipython",
    "version": 3
   },
   "file_extension": ".py",
   "mimetype": "text/x-python",
   "name": "python",
   "nbconvert_exporter": "python",
   "pygments_lexer": "ipython3",
   "version": "3.8.10"
  },
  "orig_nbformat": 4,
  "vscode": {
   "interpreter": {
    "hash": "31f2aee4e71d21fbe5cf8b01ff0e069b9275f58929596ceb00d14d90e3e16cd6"
   }
  }
 },
 "nbformat": 4,
 "nbformat_minor": 2
}
